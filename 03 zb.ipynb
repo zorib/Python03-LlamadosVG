{
 "cells": [
  {
   "cell_type": "code",
   "execution_count": 1,
   "metadata": {},
   "outputs": [
    {
     "data": {
      "text/plain": [
       "'C:\\\\Users\\\\Equipo\\\\00Test'"
      ]
     },
     "execution_count": 1,
     "metadata": {},
     "output_type": "execute_result"
    }
   ],
   "source": [
    "pwd\n"
   ]
  },
  {
   "cell_type": "code",
   "execution_count": 5,
   "metadata": {},
   "outputs": [],
   "source": [
    "import pandas as pd"
   ]
  },
  {
   "cell_type": "code",
   "execution_count": 20,
   "metadata": {},
   "outputs": [
    {
     "data": {
      "text/html": [
       "<div>\n",
       "<style scoped>\n",
       "    .dataframe tbody tr th:only-of-type {\n",
       "        vertical-align: middle;\n",
       "    }\n",
       "\n",
       "    .dataframe tbody tr th {\n",
       "        vertical-align: top;\n",
       "    }\n",
       "\n",
       "    .dataframe thead th {\n",
       "        text-align: right;\n",
       "    }\n",
       "</style>\n",
       "<table border=\"1\" class=\"dataframe\">\n",
       "  <thead>\n",
       "    <tr style=\"text-align: right;\">\n",
       "      <th></th>\n",
       "      <th>caso_id</th>\n",
       "      <th>llamado_fecha_hora</th>\n",
       "      <th>llamado_provincia</th>\n",
       "      <th>llamante_edad</th>\n",
       "      <th>llamante_genero</th>\n",
       "      <th>llamante_vinculo</th>\n",
       "      <th>caso_judicializado</th>\n",
       "      <th>hecho_lugar</th>\n",
       "      <th>victima_a_resguardo</th>\n",
       "      <th>victima_edad</th>\n",
       "      <th>...</th>\n",
       "      <th>ofv_privacion_libertad</th>\n",
       "      <th>ofv_uso_arma_blanca</th>\n",
       "      <th>ofv_uso_arma_fuego</th>\n",
       "      <th>ofv_enganio_seduccion</th>\n",
       "      <th>ofv_intento_matar</th>\n",
       "      <th>ofv_uso_animal_victimizar</th>\n",
       "      <th>ofv_grooming</th>\n",
       "      <th>ofv_otra_forma_violencia</th>\n",
       "      <th>ofv_no_sabe_no_contesta</th>\n",
       "      <th>llamado_provincia_id</th>\n",
       "    </tr>\n",
       "  </thead>\n",
       "  <tbody>\n",
       "    <tr>\n",
       "      <td>0</td>\n",
       "      <td>66181</td>\n",
       "      <td>2021-01-01 08:05:00</td>\n",
       "      <td>CABA</td>\n",
       "      <td>Sin dato</td>\n",
       "      <td>Masculino</td>\n",
       "      <td>Comisaría</td>\n",
       "      <td>SI</td>\n",
       "      <td>NS/NC</td>\n",
       "      <td>SI</td>\n",
       "      <td>18</td>\n",
       "      <td>...</td>\n",
       "      <td>NO</td>\n",
       "      <td>NO</td>\n",
       "      <td>NO</td>\n",
       "      <td>NO</td>\n",
       "      <td>NO</td>\n",
       "      <td>NO</td>\n",
       "      <td>NO</td>\n",
       "      <td>NO</td>\n",
       "      <td>SI</td>\n",
       "      <td>2.0</td>\n",
       "    </tr>\n",
       "    <tr>\n",
       "      <td>1</td>\n",
       "      <td>66182</td>\n",
       "      <td>2021-01-01 12:00:00</td>\n",
       "      <td>CABA</td>\n",
       "      <td>50</td>\n",
       "      <td>Masculino</td>\n",
       "      <td>Comisaría</td>\n",
       "      <td>SI</td>\n",
       "      <td>Comercio</td>\n",
       "      <td>SI</td>\n",
       "      <td>35</td>\n",
       "      <td>...</td>\n",
       "      <td>NO</td>\n",
       "      <td>NO</td>\n",
       "      <td>NO</td>\n",
       "      <td>NO</td>\n",
       "      <td>NO</td>\n",
       "      <td>NO</td>\n",
       "      <td>NO</td>\n",
       "      <td>NO</td>\n",
       "      <td>NO</td>\n",
       "      <td>2.0</td>\n",
       "    </tr>\n",
       "    <tr>\n",
       "      <td>2</td>\n",
       "      <td>66184</td>\n",
       "      <td>2021-01-02 07:15:00</td>\n",
       "      <td>CABA</td>\n",
       "      <td>Sin dato</td>\n",
       "      <td>Masculino</td>\n",
       "      <td>Comisaría</td>\n",
       "      <td>SI</td>\n",
       "      <td>NS/NC</td>\n",
       "      <td>SI</td>\n",
       "      <td>28</td>\n",
       "      <td>...</td>\n",
       "      <td>NO</td>\n",
       "      <td>NO</td>\n",
       "      <td>NO</td>\n",
       "      <td>NO</td>\n",
       "      <td>NO</td>\n",
       "      <td>NO</td>\n",
       "      <td>NO</td>\n",
       "      <td>NO</td>\n",
       "      <td>NO</td>\n",
       "      <td>2.0</td>\n",
       "    </tr>\n",
       "    <tr>\n",
       "      <td>3</td>\n",
       "      <td>66185</td>\n",
       "      <td>2021-01-02 19:30:00</td>\n",
       "      <td>NS/NC</td>\n",
       "      <td>Sin dato</td>\n",
       "      <td>Ns/Nc</td>\n",
       "      <td>Abuela/o</td>\n",
       "      <td>NO</td>\n",
       "      <td>NS/NC</td>\n",
       "      <td>SI</td>\n",
       "      <td>Sin dato</td>\n",
       "      <td>...</td>\n",
       "      <td>NO</td>\n",
       "      <td>NO</td>\n",
       "      <td>NO</td>\n",
       "      <td>NO</td>\n",
       "      <td>NO</td>\n",
       "      <td>NO</td>\n",
       "      <td>NO</td>\n",
       "      <td>NO</td>\n",
       "      <td>SI</td>\n",
       "      <td>NaN</td>\n",
       "    </tr>\n",
       "    <tr>\n",
       "      <td>4</td>\n",
       "      <td>66186</td>\n",
       "      <td>2021-01-02 00:45:00</td>\n",
       "      <td>Santa Fé</td>\n",
       "      <td>38</td>\n",
       "      <td>Femenino</td>\n",
       "      <td>Otro conocido</td>\n",
       "      <td>NO</td>\n",
       "      <td>NS/NC</td>\n",
       "      <td>SI</td>\n",
       "      <td>17</td>\n",
       "      <td>...</td>\n",
       "      <td>NO</td>\n",
       "      <td>NO</td>\n",
       "      <td>NO</td>\n",
       "      <td>NO</td>\n",
       "      <td>NO</td>\n",
       "      <td>NO</td>\n",
       "      <td>NO</td>\n",
       "      <td>NO</td>\n",
       "      <td>SI</td>\n",
       "      <td>82.0</td>\n",
       "    </tr>\n",
       "    <tr>\n",
       "      <td>...</td>\n",
       "      <td>...</td>\n",
       "      <td>...</td>\n",
       "      <td>...</td>\n",
       "      <td>...</td>\n",
       "      <td>...</td>\n",
       "      <td>...</td>\n",
       "      <td>...</td>\n",
       "      <td>...</td>\n",
       "      <td>...</td>\n",
       "      <td>...</td>\n",
       "      <td>...</td>\n",
       "      <td>...</td>\n",
       "      <td>...</td>\n",
       "      <td>...</td>\n",
       "      <td>...</td>\n",
       "      <td>...</td>\n",
       "      <td>...</td>\n",
       "      <td>...</td>\n",
       "      <td>...</td>\n",
       "      <td>...</td>\n",
       "      <td>...</td>\n",
       "    </tr>\n",
       "    <tr>\n",
       "      <td>1587</td>\n",
       "      <td>67746</td>\n",
       "      <td>2021-03-31 12:25:00</td>\n",
       "      <td>CABA</td>\n",
       "      <td>32</td>\n",
       "      <td>Femenino</td>\n",
       "      <td>Víctima</td>\n",
       "      <td>NO</td>\n",
       "      <td>Vivienda de la Víctima</td>\n",
       "      <td>SI</td>\n",
       "      <td>32</td>\n",
       "      <td>...</td>\n",
       "      <td>NO</td>\n",
       "      <td>NO</td>\n",
       "      <td>NO</td>\n",
       "      <td>NO</td>\n",
       "      <td>NO</td>\n",
       "      <td>NO</td>\n",
       "      <td>NO</td>\n",
       "      <td>NO</td>\n",
       "      <td>SI</td>\n",
       "      <td>2.0</td>\n",
       "    </tr>\n",
       "    <tr>\n",
       "      <td>1588</td>\n",
       "      <td>67747</td>\n",
       "      <td>2021-03-31 14:30:00</td>\n",
       "      <td>CABA</td>\n",
       "      <td>Sin dato</td>\n",
       "      <td>Femenino</td>\n",
       "      <td>Comisaría</td>\n",
       "      <td>SI</td>\n",
       "      <td>Vivienda de un familiar</td>\n",
       "      <td>SI</td>\n",
       "      <td>8</td>\n",
       "      <td>...</td>\n",
       "      <td>NO</td>\n",
       "      <td>NO</td>\n",
       "      <td>NO</td>\n",
       "      <td>NO</td>\n",
       "      <td>NO</td>\n",
       "      <td>NO</td>\n",
       "      <td>NO</td>\n",
       "      <td>NO</td>\n",
       "      <td>SI</td>\n",
       "      <td>2.0</td>\n",
       "    </tr>\n",
       "    <tr>\n",
       "      <td>1589</td>\n",
       "      <td>67749</td>\n",
       "      <td>2021-03-31 15:30:00</td>\n",
       "      <td>CABA</td>\n",
       "      <td>Sin dato</td>\n",
       "      <td>Masculino</td>\n",
       "      <td>Comisaría</td>\n",
       "      <td>SI</td>\n",
       "      <td>Vivienda de la Víctima</td>\n",
       "      <td>SI</td>\n",
       "      <td>7</td>\n",
       "      <td>...</td>\n",
       "      <td>NO</td>\n",
       "      <td>NO</td>\n",
       "      <td>NO</td>\n",
       "      <td>NO</td>\n",
       "      <td>NO</td>\n",
       "      <td>NO</td>\n",
       "      <td>NO</td>\n",
       "      <td>NO</td>\n",
       "      <td>SI</td>\n",
       "      <td>2.0</td>\n",
       "    </tr>\n",
       "    <tr>\n",
       "      <td>1590</td>\n",
       "      <td>67748</td>\n",
       "      <td>2021-03-31 16:00:00</td>\n",
       "      <td>CABA</td>\n",
       "      <td>Sin dato</td>\n",
       "      <td>Femenino</td>\n",
       "      <td>Comisaría</td>\n",
       "      <td>SI</td>\n",
       "      <td>Vivienda de la Víctima</td>\n",
       "      <td>SI</td>\n",
       "      <td>12</td>\n",
       "      <td>...</td>\n",
       "      <td>NO</td>\n",
       "      <td>NO</td>\n",
       "      <td>NO</td>\n",
       "      <td>NO</td>\n",
       "      <td>NO</td>\n",
       "      <td>NO</td>\n",
       "      <td>NO</td>\n",
       "      <td>NO</td>\n",
       "      <td>NO</td>\n",
       "      <td>2.0</td>\n",
       "    </tr>\n",
       "    <tr>\n",
       "      <td>1591</td>\n",
       "      <td>67750</td>\n",
       "      <td>2021-03-31 16:55:00</td>\n",
       "      <td>Buenos Aires</td>\n",
       "      <td>44</td>\n",
       "      <td>Femenino</td>\n",
       "      <td>Madre</td>\n",
       "      <td>NO</td>\n",
       "      <td>Redes Sociales</td>\n",
       "      <td>SI</td>\n",
       "      <td>14</td>\n",
       "      <td>...</td>\n",
       "      <td>NO</td>\n",
       "      <td>NO</td>\n",
       "      <td>NO</td>\n",
       "      <td>NO</td>\n",
       "      <td>NO</td>\n",
       "      <td>NO</td>\n",
       "      <td>NO</td>\n",
       "      <td>NO</td>\n",
       "      <td>NO</td>\n",
       "      <td>6.0</td>\n",
       "    </tr>\n",
       "  </tbody>\n",
       "</table>\n",
       "<p>1592 rows × 55 columns</p>\n",
       "</div>"
      ],
      "text/plain": [
       "      caso_id   llamado_fecha_hora llamado_provincia llamante_edad  \\\n",
       "0       66181  2021-01-01 08:05:00              CABA      Sin dato   \n",
       "1       66182  2021-01-01 12:00:00              CABA            50   \n",
       "2       66184  2021-01-02 07:15:00              CABA      Sin dato   \n",
       "3       66185  2021-01-02 19:30:00             NS/NC      Sin dato   \n",
       "4       66186  2021-01-02 00:45:00          Santa Fé            38   \n",
       "...       ...                  ...               ...           ...   \n",
       "1587    67746  2021-03-31 12:25:00              CABA            32   \n",
       "1588    67747  2021-03-31 14:30:00              CABA      Sin dato   \n",
       "1589    67749  2021-03-31 15:30:00              CABA      Sin dato   \n",
       "1590    67748  2021-03-31 16:00:00              CABA      Sin dato   \n",
       "1591    67750  2021-03-31 16:55:00      Buenos Aires            44   \n",
       "\n",
       "     llamante_genero llamante_vinculo caso_judicializado  \\\n",
       "0          Masculino        Comisaría                 SI   \n",
       "1          Masculino        Comisaría                 SI   \n",
       "2          Masculino        Comisaría                 SI   \n",
       "3              Ns/Nc         Abuela/o                 NO   \n",
       "4           Femenino    Otro conocido                 NO   \n",
       "...              ...              ...                ...   \n",
       "1587        Femenino          Víctima                 NO   \n",
       "1588        Femenino        Comisaría                 SI   \n",
       "1589       Masculino        Comisaría                 SI   \n",
       "1590        Femenino        Comisaría                 SI   \n",
       "1591        Femenino            Madre                 NO   \n",
       "\n",
       "                  hecho_lugar victima_a_resguardo victima_edad  ...  \\\n",
       "0                       NS/NC                  SI           18  ...   \n",
       "1                    Comercio                  SI           35  ...   \n",
       "2                       NS/NC                  SI           28  ...   \n",
       "3                       NS/NC                  SI     Sin dato  ...   \n",
       "4                       NS/NC                  SI           17  ...   \n",
       "...                       ...                 ...          ...  ...   \n",
       "1587   Vivienda de la Víctima                  SI           32  ...   \n",
       "1588  Vivienda de un familiar                  SI            8  ...   \n",
       "1589   Vivienda de la Víctima                  SI            7  ...   \n",
       "1590   Vivienda de la Víctima                  SI           12  ...   \n",
       "1591           Redes Sociales                  SI           14  ...   \n",
       "\n",
       "     ofv_privacion_libertad ofv_uso_arma_blanca ofv_uso_arma_fuego  \\\n",
       "0                        NO                  NO                 NO   \n",
       "1                        NO                  NO                 NO   \n",
       "2                        NO                  NO                 NO   \n",
       "3                        NO                  NO                 NO   \n",
       "4                        NO                  NO                 NO   \n",
       "...                     ...                 ...                ...   \n",
       "1587                     NO                  NO                 NO   \n",
       "1588                     NO                  NO                 NO   \n",
       "1589                     NO                  NO                 NO   \n",
       "1590                     NO                  NO                 NO   \n",
       "1591                     NO                  NO                 NO   \n",
       "\n",
       "     ofv_enganio_seduccion ofv_intento_matar ofv_uso_animal_victimizar  \\\n",
       "0                       NO                NO                        NO   \n",
       "1                       NO                NO                        NO   \n",
       "2                       NO                NO                        NO   \n",
       "3                       NO                NO                        NO   \n",
       "4                       NO                NO                        NO   \n",
       "...                    ...               ...                       ...   \n",
       "1587                    NO                NO                        NO   \n",
       "1588                    NO                NO                        NO   \n",
       "1589                    NO                NO                        NO   \n",
       "1590                    NO                NO                        NO   \n",
       "1591                    NO                NO                        NO   \n",
       "\n",
       "     ofv_grooming ofv_otra_forma_violencia ofv_no_sabe_no_contesta  \\\n",
       "0              NO                       NO                      SI   \n",
       "1              NO                       NO                      NO   \n",
       "2              NO                       NO                      NO   \n",
       "3              NO                       NO                      SI   \n",
       "4              NO                       NO                      SI   \n",
       "...           ...                      ...                     ...   \n",
       "1587           NO                       NO                      SI   \n",
       "1588           NO                       NO                      SI   \n",
       "1589           NO                       NO                      SI   \n",
       "1590           NO                       NO                      NO   \n",
       "1591           NO                       NO                      NO   \n",
       "\n",
       "     llamado_provincia_id  \n",
       "0                     2.0  \n",
       "1                     2.0  \n",
       "2                     2.0  \n",
       "3                     NaN  \n",
       "4                    82.0  \n",
       "...                   ...  \n",
       "1587                  2.0  \n",
       "1588                  2.0  \n",
       "1589                  2.0  \n",
       "1590                  2.0  \n",
       "1591                  6.0  \n",
       "\n",
       "[1592 rows x 55 columns]"
      ]
     },
     "execution_count": 20,
     "metadata": {},
     "output_type": "execute_result"
    }
   ],
   "source": [
    "pd.read_csv(\"Dataset/llamados-atendidos-abuso-sexual-2021.csv\")\n",
    "df =pd.read_csv(\"Dataset/llamados-atendidos-abuso-sexual-2021.csv\")\n",
    "df\n"
   ]
  },
  {
   "cell_type": "code",
   "execution_count": 37,
   "metadata": {},
   "outputs": [
    {
     "data": {
      "text/plain": [
       "caso_id                                        int64\n",
       "llamado_fecha_hora                            object\n",
       "llamado_provincia                             object\n",
       "llamante_edad                                 object\n",
       "llamante_genero                               object\n",
       "llamante_vinculo                              object\n",
       "caso_judicializado                            object\n",
       "hecho_lugar                                   object\n",
       "victima_a_resguardo                           object\n",
       "victima_edad                                  object\n",
       "victima_genero                                object\n",
       "victima_nacionalidad                          object\n",
       "victima_vinculo_agresor                       object\n",
       "victima_discapacidad                          object\n",
       "victima_convive_agresor                       object\n",
       "vs_violacion_via_vaginal                      object\n",
       "vs_violacion_via_anal                         object\n",
       "vs_violacion_via_oral                         object\n",
       "vs_tentativa_violacion                        object\n",
       "vs_tocamiento_sexual                          object\n",
       "vs_intento_tocamiento                         object\n",
       "vs_Intento_violación_tercera_persona          object\n",
       "vs_grooming                                   object\n",
       "vs_exhibicionismo                             object\n",
       "vs_amenazas_verbales_contenido_sexual         object\n",
       "vs_explotacion_sexual                         object\n",
       "vs_explotacion_sexual_comercial               object\n",
       "vs_explotacion_sexual_viajes_turismo          object\n",
       "vs_sospecha_trata_personas_fines_sexuales     object\n",
       "vs_existencia_facilitador_corrupcion_nnya     object\n",
       "vs_obligacion_sacarse_fotos_pornograficas     object\n",
       "vs_eyaculacion_partes_cuerpo                  object\n",
       "vs_acoso_sexual                               object\n",
       "vs_iniciacion_sexual_forzada_inducida         object\n",
       "vs_otra_forma_violencia_sexual                object\n",
       "vs_no_sabe_no_contesta                        object\n",
       "ofv_sentimiento_amenaza                       object\n",
       "ofv_amenaza_explicita                         object\n",
       "ofv_violencia_fisica                          object\n",
       "ofv_intento_ahorcar                           object\n",
       "ofv_intento_quemar                            object\n",
       "ofv_intento_ahogar                            object\n",
       "ofv_amenaza_muerte                            object\n",
       "ofv_uso_sustancias_psicoactivas               object\n",
       "ofv_intento_privacion_libertad                object\n",
       "ofv_privacion_libertad                        object\n",
       "ofv_uso_arma_blanca                           object\n",
       "ofv_uso_arma_fuego                            object\n",
       "ofv_enganio_seduccion                         object\n",
       "ofv_intento_matar                             object\n",
       "ofv_uso_animal_victimizar                     object\n",
       "ofv_grooming                                  object\n",
       "ofv_otra_forma_violencia                      object\n",
       "ofv_no_sabe_no_contesta                       object\n",
       "llamado_provincia_id                         float64\n",
       "dtype: object"
      ]
     },
     "execution_count": 37,
     "metadata": {},
     "output_type": "execute_result"
    }
   ],
   "source": [
    "df.dtypes"
   ]
  },
  {
   "cell_type": "code",
   "execution_count": 35,
   "metadata": {
    "scrolled": true
   },
   "outputs": [
    {
     "data": {
      "text/plain": [
       "<matplotlib.axes._subplots.AxesSubplot at 0x23ed78a5d88>"
      ]
     },
     "execution_count": 35,
     "metadata": {},
     "output_type": "execute_result"
    },
    {
     "data": {
      "image/png": "[encoded data removed]",
      "text/plain": [
       "<Figure size 432x288 with 1 Axes>"
      ]
     },
     "metadata": {
      "needs_background": "light"
     },
     "output_type": "display_data"
    }
   ],
   "source": [
    "df.llamante_genero.hist()"
   ]
  },
  {
   "cell_type": "code",
   "execution_count": 25,
   "metadata": {},
   "outputs": [
    {
     "data": {
      "text/plain": [
       "Femenino      964\n",
       "Ns/Nc         302\n",
       "Masculino     214\n",
       " Masculino    112\n",
       "Name: llamante_genero, dtype: int64"
      ]
     },
     "execution_count": 25,
     "metadata": {},
     "output_type": "execute_result"
    }
   ],
   "source": [
    "df.llamante_genero.value_counts()"
   ]
  },
  {
   "cell_type": "code",
   "execution_count": 26,
   "metadata": {},
   "outputs": [
    {
     "data": {
      "text/plain": [
       "Sin dato    814\n",
       "40           91\n",
       "30           62\n",
       "35           40\n",
       "28           36\n",
       "45           32\n",
       "50           30\n",
       "31           25\n",
       "34           24\n",
       "29           24\n",
       "36           24\n",
       "19           23\n",
       "26           23\n",
       "38           22\n",
       "39           21\n",
       "25           20\n",
       "18           19\n",
       "27           18\n",
       "23           17\n",
       "20           16\n",
       "32           16\n",
       "33           14\n",
       "24           14\n",
       "37           13\n",
       "42           12\n",
       "21           11\n",
       "43           11\n",
       "47           11\n",
       "53            9\n",
       "17            9\n",
       "15            9\n",
       "44            8\n",
       "48            7\n",
       "16            7\n",
       "46            6\n",
       "22            6\n",
       "41            6\n",
       "55            5\n",
       "52            5\n",
       "49            4\n",
       "60            4\n",
       "57            3\n",
       "14            3\n",
       "59            2\n",
       "61            2\n",
       "54            2\n",
       "58            2\n",
       "51            2\n",
       "68            1\n",
       "69            1\n",
       "70            1\n",
       "65            1\n",
       "13            1\n",
       "56            1\n",
       "9             1\n",
       "71            1\n",
       "Name: llamante_edad, dtype: int64"
      ]
     },
     "execution_count": 26,
     "metadata": {},
     "output_type": "execute_result"
    }
   ],
   "source": [
    "df.llamante_edad.value_counts()"
   ]
  },
  {
   "cell_type": "code",
   "execution_count": 28,
   "metadata": {},
   "outputs": [
    {
     "data": {
      "text/plain": [
       "<matplotlib.axes._subplots.AxesSubplot at 0x23ed7883888>"
      ]
     },
     "execution_count": 28,
     "metadata": {},
     "output_type": "execute_result"
    },
    {
     "data": {
      "image/png": "[encoded data removed]",
      "text/plain": [
       "<Figure size 432x288 with 1 Axes>"
      ]
     },
     "metadata": {
      "needs_background": "light"
     },
     "output_type": "display_data"
    }
   ],
   "source": [
    "df.llamado_provincia.hist()\n"
   ]
  },
  {
   "cell_type": "code",
   "execution_count": 30,
   "metadata": {},
   "outputs": [
    {
     "data": {
      "text/plain": [
       "Buenos Aires           496\n",
       "NS/NC                  433\n",
       "CABA                   377\n",
       "Córdoba                 75\n",
       "Santa Fé                49\n",
       "Mendoza                 33\n",
       "Tucumán                 18\n",
       "Neuquén                 11\n",
       "San Luis                11\n",
       "Chaco                   10\n",
       "Salta                    9\n",
       "Entre Ríos               9\n",
       "Jujuy                    8\n",
       "Misiones                 8\n",
       "San Juan                 8\n",
       "Formosa                  6\n",
       "Corrientes               6\n",
       "Santiago del Estero      5\n",
       "Tierra del Fuego         5\n",
       "Catamarca                4\n",
       "Río Negro                4\n",
       "Santa Cruz               3\n",
       "Chubut                   3\n",
       "La Rioja                 1\n",
       "Name: llamado_provincia, dtype: int64"
      ]
     },
     "execution_count": 30,
     "metadata": {},
     "output_type": "execute_result"
    }
   ],
   "source": [
    "df.llamado_provincia.value_counts()"
   ]
  },
  {
   "cell_type": "code",
   "execution_count": 31,
   "metadata": {},
   "outputs": [
    {
     "data": {
      "text/plain": [
       "NS/NC                         519\n",
       "Redes Sociales                394\n",
       "Vivienda de la Víctima        289\n",
       "Vivienda del Agresor          171\n",
       "Otro                           74\n",
       "Calle                          41\n",
       "Vivienda de un familiar        41\n",
       "Comercio                       27\n",
       "Automóvil                       9\n",
       "Descampado                      8\n",
       "Plaza                           7\n",
       "Albergue transitorio            5\n",
       "Ámbito educativo                4\n",
       "Subterráneo/Tren/Colectivo      2\n",
       "Taxi                            1\n",
       "Name: hecho_lugar, dtype: int64"
      ]
     },
     "execution_count": 31,
     "metadata": {},
     "output_type": "execute_result"
    }
   ],
   "source": [
    "df.hecho_lugar.value_counts()"
   ]
  },
  {
   "cell_type": "code",
   "execution_count": 33,
   "metadata": {},
   "outputs": [
    {
     "data": {
      "text/plain": [
       "NO    1592\n",
       "Name: ofv_intento_matar, dtype: int64"
      ]
     },
     "execution_count": 33,
     "metadata": {},
     "output_type": "execute_result"
    }
   ],
   "source": [
    "df.ofv_intento_matar.value_counts()"
   ]
  },
  {
   "cell_type": "code",
   "execution_count": 38,
   "metadata": {},
   "outputs": [
    {
     "data": {
      "text/plain": [
       "NO    1591\n",
       "SI       1\n",
       "Name: vs_sospecha_trata_personas_fines_sexuales, dtype: int64"
      ]
     },
     "execution_count": 38,
     "metadata": {},
     "output_type": "execute_result"
    }
   ],
   "source": [
    "df.vs_sospecha_trata_personas_fines_sexuales.value_counts()"
   ]
  },
  {
   "cell_type": "code",
   "execution_count": 40,
   "metadata": {},
   "outputs": [
    {
     "data": {
      "text/plain": [
       "caso_id                                        int64\n",
       "llamado_fecha_hora                            object\n",
       "llamado_provincia                             object\n",
       "llamante_edad                                 object\n",
       "llamante_genero                               object\n",
       "llamante_vinculo                              object\n",
       "caso_judicializado                            object\n",
       "hecho_lugar                                   object\n",
       "victima_a_resguardo                           object\n",
       "victima_edad                                  object\n",
       "victima_genero                                object\n",
       "victima_nacionalidad                          object\n",
       "victima_vinculo_agresor                       object\n",
       "victima_discapacidad                          object\n",
       "victima_convive_agresor                       object\n",
       "vs_violacion_via_vaginal                      object\n",
       "vs_violacion_via_anal                         object\n",
       "vs_violacion_via_oral                         object\n",
       "vs_tentativa_violacion                        object\n",
       "vs_tocamiento_sexual                          object\n",
       "vs_intento_tocamiento                         object\n",
       "vs_Intento_violación_tercera_persona          object\n",
       "vs_grooming                                   object\n",
       "vs_exhibicionismo                             object\n",
       "vs_amenazas_verbales_contenido_sexual         object\n",
       "vs_explotacion_sexual                         object\n",
       "vs_explotacion_sexual_comercial               object\n",
       "vs_explotacion_sexual_viajes_turismo          object\n",
       "vs_sospecha_trata_personas_fines_sexuales     object\n",
       "vs_existencia_facilitador_corrupcion_nnya     object\n",
       "vs_obligacion_sacarse_fotos_pornograficas     object\n",
       "vs_eyaculacion_partes_cuerpo                  object\n",
       "vs_acoso_sexual                               object\n",
       "vs_iniciacion_sexual_forzada_inducida         object\n",
       "vs_otra_forma_violencia_sexual                object\n",
       "vs_no_sabe_no_contesta                        object\n",
       "ofv_sentimiento_amenaza                       object\n",
       "ofv_amenaza_explicita                         object\n",
       "ofv_violencia_fisica                          object\n",
       "ofv_intento_ahorcar                           object\n",
       "ofv_intento_quemar                            object\n",
       "ofv_intento_ahogar                            object\n",
       "ofv_amenaza_muerte                            object\n",
       "ofv_uso_sustancias_psicoactivas               object\n",
       "ofv_intento_privacion_libertad                object\n",
       "ofv_privacion_libertad                        object\n",
       "ofv_uso_arma_blanca                           object\n",
       "ofv_uso_arma_fuego                            object\n",
       "ofv_enganio_seduccion                         object\n",
       "ofv_intento_matar                             object\n",
       "ofv_uso_animal_victimizar                     object\n",
       "ofv_grooming                                  object\n",
       "ofv_otra_forma_violencia                      object\n",
       "ofv_no_sabe_no_contesta                       object\n",
       "llamado_provincia_id                         float64\n",
       "dtype: object"
      ]
     },
     "execution_count": 40,
     "metadata": {},
     "output_type": "execute_result"
    }
   ],
   "source": [
    "df.dtypes\n"
   ]
  },
  {
   "cell_type": "code",
   "execution_count": 42,
   "metadata": {},
   "outputs": [
    {
     "data": {
      "text/plain": [
       "Comisaría           313\n",
       "NS/NC               300\n",
       "Víctima             294\n",
       "Familiar            237\n",
       "Madre               212\n",
       "Otro conocido        88\n",
       "Padre                56\n",
       "Vecino               30\n",
       "Otra Institución     21\n",
       "Hermana/o            20\n",
       "Hospital              9\n",
       "Abuela/o              8\n",
       "Agresor/a             2\n",
       "Escuela               2\n",
       "Name: llamante_vinculo, dtype: int64"
      ]
     },
     "execution_count": 42,
     "metadata": {},
     "output_type": "execute_result"
    }
   ],
   "source": [
    "df.llamante_vinculo.value_counts()"
   ]
  },
  {
   "cell_type": "code",
   "execution_count": 43,
   "metadata": {},
   "outputs": [
    {
     "data": {
      "text/plain": [
       "NO    1569\n",
       "SI      23\n",
       "Name: vs_tentativa_violacion, dtype: int64"
      ]
     },
     "execution_count": 43,
     "metadata": {},
     "output_type": "execute_result"
    }
   ],
   "source": [
    "df.vs_tentativa_violacion.value_counts()"
   ]
  },
  {
   "cell_type": "code",
   "execution_count": 44,
   "metadata": {},
   "outputs": [
    {
     "data": {
      "text/plain": [
       "SI    1499\n",
       "NO      93\n",
       "Name: victima_a_resguardo, dtype: int64"
      ]
     },
     "execution_count": 44,
     "metadata": {},
     "output_type": "execute_result"
    }
   ],
   "source": [
    "df.victima_a_resguardo.value_counts()"
   ]
  }
 ],
 "metadata": {
  "kernelspec": {
   "display_name": "Python 3",
   "language": "python",
   "name": "python3"
  },
  "language_info": {
   "codemirror_mode": {
    "name": "ipython",
    "version": 3
   },
   "file_extension": ".py",
   "mimetype": "text/x-python",
   "name": "python",
   "nbconvert_exporter": "python",
   "pygments_lexer": "ipython3",
   "version": "3.7.4"
  }
 },
 "nbformat": 4,
 "nbformat_minor": 2
}
